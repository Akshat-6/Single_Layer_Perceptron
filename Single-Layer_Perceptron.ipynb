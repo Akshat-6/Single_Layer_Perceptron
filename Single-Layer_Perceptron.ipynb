{
  "nbformat": 4,
  "nbformat_minor": 0,
  "metadata": {
    "colab": {
      "provenance": []
    },
    "kernelspec": {
      "name": "python3",
      "display_name": "Python 3"
    },
    "language_info": {
      "name": "python"
    }
  },
  "cells": [
    {
      "cell_type": "code",
      "execution_count": null,
      "metadata": {
        "colab": {
          "base_uri": "https://localhost:8080/"
        },
        "id": "CCLReEWB6lPF",
        "outputId": "692c2408-ab75-445b-e732-94a0320420cb"
      },
      "outputs": [
        {
          "output_type": "stream",
          "name": "stdout",
          "text": [
            "Titanic Dataset - Accuracy: 0.7482517482517482\n",
            "Titanic Dataset - Precision: 0.6470588235294118\n",
            "Titanic Dataset - Recall: 0.7857142857142857\n",
            "Simple Dataset - Accuracy: 0.77\n",
            "Simple Dataset - Precision: 0.8064516129032258\n",
            "Simple Dataset - Recall: 0.7281553398058253\n",
            "Iris Dataset - Best Params: {'learning_rate': 0.001, 'epochs': 500}\n",
            "Iris Dataset - Accuracy: 1.0\n",
            "Iris Dataset - Precision: 1.0\n",
            "Iris Dataset - Recall: 1.0\n"
          ]
        }
      ],
      "source": [
        "import numpy as np\n",
        "import pandas as pd\n",
        "from sklearn.model_selection import train_test_split, GridSearchCV\n",
        "from sklearn.preprocessing import StandardScaler\n",
        "from sklearn.metrics import accuracy_score, precision_score, recall_score\n",
        "from sklearn.datasets import make_classification, load_iris\n",
        "\n",
        "# Load Titanic Dataset\n",
        "df = pd.read_csv(\"https://raw.githubusercontent.com/datasciencedojo/datasets/master/titanic.csv\")\n",
        "\n",
        "# Preprocessing\n",
        "features = [\"Pclass\", \"Sex\", \"Age\", \"SibSp\", \"Parch\", \"Fare\"]\n",
        "df = df[features + [\"Survived\"]].dropna()\n",
        "df[\"Sex\"] = df[\"Sex\"].map({\"male\": 0, \"female\": 1})\n",
        "\n",
        "X = df[features].values\n",
        "y = df[\"Survived\"].values\n",
        "\n",
        "X_train, X_test, y_train, y_test = train_test_split(X, y, test_size=0.2, random_state=42)\n",
        "scaler = StandardScaler()\n",
        "X_train = scaler.fit_transform(X_train)\n",
        "X_test = scaler.transform(X_test)\n",
        "\n",
        "# Perceptron Implementation\n",
        "class SinglePerceptron:\n",
        "    def __init__(self, learning_rate=0.01, epochs=100):\n",
        "        self.lr = learning_rate\n",
        "        self.epochs = epochs\n",
        "        self.weights = None\n",
        "        self.bias = None\n",
        "\n",
        "    def activation(self, x):\n",
        "        return 1 if x >= 0 else 0\n",
        "\n",
        "    def fit(self, X, y):\n",
        "        n_samples, n_features = X.shape\n",
        "        self.weights = np.zeros(n_features)\n",
        "        self.bias = 0\n",
        "\n",
        "        for _ in range(self.epochs):\n",
        "            for i in range(n_samples):\n",
        "                linear_output = np.dot(X[i], self.weights) + self.bias\n",
        "                y_pred = self.activation(linear_output)\n",
        "                update = self.lr * (y[i] - y_pred)\n",
        "                self.weights += update * X[i]\n",
        "                self.bias += update\n",
        "\n",
        "    def predict(self, X):\n",
        "        linear_output = np.dot(X, self.weights) + self.bias\n",
        "        return np.array([self.activation(x) for x in linear_output])\n",
        "\n",
        "# Train and Evaluate for Titanic\n",
        "titanic_perceptron = SinglePerceptron(learning_rate=0.01, epochs=1000)\n",
        "titanic_perceptron.fit(X_train, y_train)\n",
        "y_pred = titanic_perceptron.predict(X_test)\n",
        "\n",
        "print(\"Titanic Dataset - Accuracy:\", accuracy_score(y_test, y_pred))\n",
        "print(\"Titanic Dataset - Precision:\", precision_score(y_test, y_pred))\n",
        "print(\"Titanic Dataset - Recall:\", recall_score(y_test, y_pred))\n",
        "\n",
        "# Simple Binary Classification Task\n",
        "X_simple, y_simple = make_classification(n_samples=1000, n_features=5, n_classes=2, random_state=42)\n",
        "X_train_simple, X_test_simple, y_train_simple, y_test_simple = train_test_split(X_simple, y_simple, test_size=0.2, random_state=42)\n",
        "scaler_simple = StandardScaler()\n",
        "X_train_simple = scaler_simple.fit_transform(X_train_simple)\n",
        "X_test_simple = scaler_simple.transform(X_test_simple)\n",
        "\n",
        "simple_perceptron = SinglePerceptron(learning_rate=0.01, epochs=1000)\n",
        "simple_perceptron.fit(X_train_simple, y_train_simple)\n",
        "y_pred_simple = simple_perceptron.predict(X_test_simple)\n",
        "\n",
        "print(\"Simple Dataset - Accuracy:\", accuracy_score(y_test_simple, y_pred_simple))\n",
        "print(\"Simple Dataset - Precision:\", precision_score(y_test_simple, y_pred_simple))\n",
        "print(\"Simple Dataset - Recall:\", recall_score(y_test_simple, y_pred_simple))\n",
        "\n",
        "# Perceptron for Iris Dataset with GridSearchCV\n",
        "iris = load_iris()\n",
        "X_iris, y_iris = iris.data, (iris.target != 0).astype(int)  # Binary classification\n",
        "X_train_iris, X_test_iris, y_train_iris, y_test_iris = train_test_split(X_iris, y_iris, test_size=0.2, random_state=42)\n",
        "scaler_iris = StandardScaler()\n",
        "X_train_iris = scaler_iris.fit_transform(X_train_iris)\n",
        "X_test_iris = scaler_iris.transform(X_test_iris)\n",
        "\n",
        "param_grid = {\"learning_rate\": [0.001, 0.01, 0.1], \"epochs\": [500, 1000, 1500]}\n",
        "\n",
        "def grid_search_perceptron(params):\n",
        "    perceptron = SinglePerceptron(learning_rate=params[\"learning_rate\"], epochs=params[\"epochs\"])\n",
        "    perceptron.fit(X_train_iris, y_train_iris)\n",
        "    y_pred_iris = perceptron.predict(X_test_iris)\n",
        "    return accuracy_score(y_test_iris, y_pred_iris)\n",
        "\n",
        "best_params = max([{\"learning_rate\": lr, \"epochs\": ep} for lr in param_grid[\"learning_rate\"] for ep in param_grid[\"epochs\"]], key=grid_search_perceptron)\n",
        "\n",
        "best_perceptron = SinglePerceptron(learning_rate=best_params[\"learning_rate\"], epochs=best_params[\"epochs\"])\n",
        "best_perceptron.fit(X_train_iris, y_train_iris)\n",
        "y_pred_iris = best_perceptron.predict(X_test_iris)\n",
        "\n",
        "print(\"Iris Dataset - Best Params:\", best_params)\n",
        "print(\"Iris Dataset - Accuracy:\", accuracy_score(y_test_iris, y_pred_iris))\n",
        "print(\"Iris Dataset - Precision:\", precision_score(y_test_iris, y_pred_iris))\n",
        "print(\"Iris Dataset - Recall:\", recall_score(y_test_iris, y_pred_iris))\n"
      ]
    },
    {
      "cell_type": "code",
      "source": [],
      "metadata": {
        "id": "QcHAzEWT8I1w"
      },
      "execution_count": null,
      "outputs": []
    }
  ]
}